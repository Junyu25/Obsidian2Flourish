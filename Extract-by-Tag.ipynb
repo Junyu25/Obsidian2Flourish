{
 "cells": [
  {
   "cell_type": "code",
   "execution_count": 2,
   "metadata": {
    "execution": {
     "iopub.execute_input": "2020-09-26T01:10:23.507999Z",
     "iopub.status.busy": "2020-09-26T01:10:23.507999Z",
     "iopub.status.idle": "2020-09-26T01:10:23.517019Z",
     "shell.execute_reply": "2020-09-26T01:10:23.516017Z",
     "shell.execute_reply.started": "2020-09-26T01:10:23.507999Z"
    }
   },
   "outputs": [],
   "source": [
    "Dir = \"C:\\\\Users\\\\Junyu\\\\OneDrive\\\\200-Areas\\\\Note\""
   ]
  },
  {
   "cell_type": "code",
   "execution_count": 12,
   "metadata": {
    "execution": {
     "iopub.execute_input": "2020-09-26T01:21:16.470622Z",
     "iopub.status.busy": "2020-09-26T01:21:16.470622Z",
     "iopub.status.idle": "2020-09-26T01:21:16.485142Z",
     "shell.execute_reply": "2020-09-26T01:21:16.484142Z",
     "shell.execute_reply.started": "2020-09-26T01:21:16.470622Z"
    }
   },
   "outputs": [],
   "source": [
    "Tags = [\"#BioSoft\", \"#database\", \"#pipeline\"]"
   ]
  },
  {
   "cell_type": "code",
   "execution_count": 8,
   "metadata": {
    "execution": {
     "iopub.execute_input": "2020-09-26T01:19:25.531881Z",
     "iopub.status.busy": "2020-09-26T01:19:25.530881Z",
     "iopub.status.idle": "2020-09-26T01:19:25.537411Z",
     "shell.execute_reply": "2020-09-26T01:19:25.536891Z",
     "shell.execute_reply.started": "2020-09-26T01:19:25.531881Z"
    }
   },
   "outputs": [
    {
     "name": "stdout",
     "output_type": "stream",
     "text": [
      "#BioSoft\n",
      "#database\n",
      "#pipeline\n"
     ]
    }
   ],
   "source": [
    "for tag in Tags:\n",
    "    print(tag)"
   ]
  },
  {
   "cell_type": "code",
   "execution_count": 11,
   "metadata": {
    "execution": {
     "iopub.execute_input": "2020-09-26T01:19:46.485394Z",
     "iopub.status.busy": "2020-09-26T01:19:46.485394Z",
     "iopub.status.idle": "2020-09-26T01:19:46.504410Z",
     "shell.execute_reply": "2020-09-26T01:19:46.503556Z",
     "shell.execute_reply.started": "2020-09-26T01:19:46.485394Z"
    }
   },
   "outputs": [
    {
     "data": {
      "text/plain": [
       "True"
      ]
     },
     "execution_count": 11,
     "metadata": {},
     "output_type": "execute_result"
    }
   ],
   "source": [
    "Tags[0] in \"#BioSoft\""
   ]
  },
  {
   "cell_type": "code",
   "execution_count": 13,
   "metadata": {
    "execution": {
     "iopub.execute_input": "2020-09-26T01:21:35.110457Z",
     "iopub.status.busy": "2020-09-26T01:21:35.109455Z",
     "iopub.status.idle": "2020-09-26T01:21:35.119460Z",
     "shell.execute_reply": "2020-09-26T01:21:35.118457Z",
     "shell.execute_reply.started": "2020-09-26T01:21:35.110457Z"
    }
   },
   "outputs": [],
   "source": [
    "import os"
   ]
  },
  {
   "cell_type": "code",
   "execution_count": 14,
   "metadata": {
    "execution": {
     "iopub.execute_input": "2020-09-26T01:21:35.450852Z",
     "iopub.status.busy": "2020-09-26T01:21:35.449820Z",
     "iopub.status.idle": "2020-09-26T01:21:35.465482Z",
     "shell.execute_reply": "2020-09-26T01:21:35.464484Z",
     "shell.execute_reply.started": "2020-09-26T01:21:35.450852Z"
    }
   },
   "outputs": [],
   "source": [
    "from shutil import copyfile"
   ]
  },
  {
   "cell_type": "code",
   "execution_count": 18,
   "metadata": {
    "execution": {
     "iopub.execute_input": "2020-09-26T01:21:59.055287Z",
     "iopub.status.busy": "2020-09-26T01:21:59.055287Z",
     "iopub.status.idle": "2020-09-26T01:21:59.060597Z",
     "shell.execute_reply": "2020-09-26T01:21:59.059690Z",
     "shell.execute_reply.started": "2020-09-26T01:21:59.055287Z"
    }
   },
   "outputs": [],
   "source": [
    "def CopyFile(infile, outputFilePath):\n",
    "    copyfile(infile, outputFilePath)"
   ]
  },
  {
   "cell_type": "code",
   "execution_count": 19,
   "metadata": {
    "execution": {
     "iopub.execute_input": "2020-09-26T01:21:59.470731Z",
     "iopub.status.busy": "2020-09-26T01:21:59.470731Z",
     "iopub.status.idle": "2020-09-26T01:21:59.482502Z",
     "shell.execute_reply": "2020-09-26T01:21:59.480498Z",
     "shell.execute_reply.started": "2020-09-26T01:21:59.470731Z"
    }
   },
   "outputs": [],
   "source": [
    "outDir = \"C:\\\\Users\\\\Junyu\\\\Documents\\\\BioSoft\""
   ]
  },
  {
   "cell_type": "code",
   "execution_count": 20,
   "metadata": {
    "execution": {
     "iopub.execute_input": "2020-09-26T01:22:00.193728Z",
     "iopub.status.busy": "2020-09-26T01:22:00.193728Z",
     "iopub.status.idle": "2020-09-26T01:22:00.355335Z",
     "shell.execute_reply": "2020-09-26T01:22:00.354370Z",
     "shell.execute_reply.started": "2020-09-26T01:22:00.193728Z"
    }
   },
   "outputs": [],
   "source": [
    "for subdirs, dirs, files in os.walk(Dir):\n",
    "    for file in files:\n",
    "        if file.endswith(\".md\"):\n",
    "            #print(os.path.join(subdirs, file))\n",
    "            filePath = os.path.join(subdirs, file)\n",
    "            infile = open(filePath, 'r') \n",
    "            for line in infile:\n",
    "                for tag in Tags:\n",
    "                    if tag in line:\n",
    "                        CopyFile(filePath, os.path.join(outDir, file))"
   ]
  },
  {
   "cell_type": "code",
   "execution_count": null,
   "metadata": {},
   "outputs": [],
   "source": []
  },
  {
   "cell_type": "markdown",
   "metadata": {},
   "source": [
    "or use readline? `list = file_input.readlines()`"
   ]
  },
  {
   "cell_type": "code",
   "execution_count": null,
   "metadata": {},
   "outputs": [],
   "source": []
  }
 ],
 "metadata": {
  "kernelspec": {
   "display_name": "Python 3",
   "language": "python",
   "name": "python3"
  },
  "language_info": {
   "codemirror_mode": {
    "name": "ipython",
    "version": 3
   },
   "file_extension": ".py",
   "mimetype": "text/x-python",
   "name": "python",
   "nbconvert_exporter": "python",
   "pygments_lexer": "ipython3",
   "version": "3.8.5"
  }
 },
 "nbformat": 4,
 "nbformat_minor": 4
}
