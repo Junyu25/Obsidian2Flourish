{
 "cells": [
  {
   "cell_type": "code",
   "execution_count": 2,
   "metadata": {
    "execution": {
     "iopub.execute_input": "2020-09-25T11:20:06.341899Z",
     "iopub.status.busy": "2020-09-25T11:20:06.341899Z",
     "iopub.status.idle": "2020-09-25T11:20:06.352896Z",
     "shell.execute_reply": "2020-09-25T11:20:06.351892Z",
     "shell.execute_reply.started": "2020-09-25T11:20:06.341899Z"
    }
   },
   "outputs": [],
   "source": [
    "Dir = \"C:\\\\Users\\\\Junyu\\\\OneDrive\\\\200-Areas\\\\BioSoft\""
   ]
  },
  {
   "cell_type": "code",
   "execution_count": 3,
   "metadata": {
    "execution": {
     "iopub.execute_input": "2020-09-25T11:20:16.657144Z",
     "iopub.status.busy": "2020-09-25T11:20:16.657144Z",
     "iopub.status.idle": "2020-09-25T11:20:16.667995Z",
     "shell.execute_reply": "2020-09-25T11:20:16.667058Z",
     "shell.execute_reply.started": "2020-09-25T11:20:16.657144Z"
    }
   },
   "outputs": [],
   "source": [
    "import os"
   ]
  },
  {
   "cell_type": "code",
   "execution_count": 5,
   "metadata": {
    "execution": {
     "iopub.execute_input": "2020-09-25T11:24:46.417041Z",
     "iopub.status.busy": "2020-09-25T11:24:46.417041Z",
     "iopub.status.idle": "2020-09-25T11:24:46.438895Z",
     "shell.execute_reply": "2020-09-25T11:24:46.437895Z",
     "shell.execute_reply.started": "2020-09-25T11:24:46.417041Z"
    }
   },
   "outputs": [
    {
     "name": "stdout",
     "output_type": "stream",
     "text": [
      "C:\\Users\\Junyu\\OneDrive\\200-Areas\\BioSoft\\BioSoft.md\n",
      "C:\\Users\\Junyu\\OneDrive\\200-Areas\\BioSoft\\Conda.md\n",
      "C:\\Users\\Junyu\\OneDrive\\200-Areas\\BioSoft\\Env.md\n",
      "C:\\Users\\Junyu\\OneDrive\\200-Areas\\BioSoft\\HUMAnN2.md\n",
      "C:\\Users\\Junyu\\OneDrive\\200-Areas\\BioSoft\\IDE.md\n",
      "C:\\Users\\Junyu\\OneDrive\\200-Areas\\BioSoft\\Linux.md\n",
      "C:\\Users\\Junyu\\OneDrive\\200-Areas\\BioSoft\\Metagenomics.md\n",
      "C:\\Users\\Junyu\\OneDrive\\200-Areas\\BioSoft\\Pipeline.md\n",
      "C:\\Users\\Junyu\\OneDrive\\200-Areas\\BioSoft\\R.md\n",
      "C:\\Users\\Junyu\\OneDrive\\200-Areas\\BioSoft\\Unix.md\n"
     ]
    }
   ],
   "source": [
    "for subdirs, dirs, files in os.walk(Dir):\n",
    "    for file in files:\n",
    "        if file.endswith(\".md\"):\n",
    "            print(os.path.join(subdirs, file))\n",
    "            "
   ]
  },
  {
   "cell_type": "code",
   "execution_count": 6,
   "metadata": {
    "execution": {
     "iopub.execute_input": "2020-09-25T11:25:09.331950Z",
     "iopub.status.busy": "2020-09-25T11:25:09.330944Z",
     "iopub.status.idle": "2020-09-25T11:25:09.359945Z",
     "shell.execute_reply": "2020-09-25T11:25:09.358943Z",
     "shell.execute_reply.started": "2020-09-25T11:25:09.331950Z"
    }
   },
   "outputs": [
    {
     "name": "stdout",
     "output_type": "stream",
     "text": [
      "<class 'list'> ['Since I use Obsidian to build up my second brain\\n', 'I summarize All of the BioSoft and Pipeline I used before\\n']\n",
      "<class 'str'> Since I use Obsidian to build up my second brain\n",
      "\n",
      "<class 'str'> I summarize All of the BioSoft and Pipeline I used before\n",
      "\n"
     ]
    }
   ],
   "source": [
    "file = open('C:\\\\Users\\\\Junyu\\\\OneDrive\\\\200-Areas\\\\BioSoft\\\\BioSoft.md', 'r')\n",
    "\n",
    "try:\n",
    "    text_lines = file.readlines()\n",
    "    print(type(text_lines), text_lines)\n",
    "    for line in text_lines:\n",
    "        print(type(line), line)\n",
    "finally:\n",
    "    file.close()"
   ]
  },
  {
   "cell_type": "code",
   "execution_count": 12,
   "metadata": {
    "execution": {
     "iopub.execute_input": "2020-09-25T11:38:50.676174Z",
     "iopub.status.busy": "2020-09-25T11:38:50.676174Z",
     "iopub.status.idle": "2020-09-25T11:38:50.688212Z",
     "shell.execute_reply": "2020-09-25T11:38:50.688212Z",
     "shell.execute_reply.started": "2020-09-25T11:38:50.676174Z"
    }
   },
   "outputs": [
    {
     "name": "stdout",
     "output_type": "stream",
     "text": [
      "[[Anaconda]]\n",
      "[[Miniconda]]\n"
     ]
    }
   ],
   "source": [
    "# Opening file \n",
    "file1 = open('C:\\\\Users\\\\Junyu\\\\OneDrive\\\\200-Areas\\\\BioSoft\\\\Conda.md', 'r') \n",
    "# Using for loop \n",
    "for line in file1: \n",
    "    print(line.strip())\n",
    "# Closing files \n",
    "file1.close() "
   ]
  },
  {
   "cell_type": "code",
   "execution_count": 13,
   "metadata": {
    "execution": {
     "iopub.execute_input": "2020-09-25T11:41:52.885782Z",
     "iopub.status.busy": "2020-09-25T11:41:52.884783Z",
     "iopub.status.idle": "2020-09-25T11:41:52.901782Z",
     "shell.execute_reply": "2020-09-25T11:41:52.900782Z",
     "shell.execute_reply.started": "2020-09-25T11:41:52.885782Z"
    }
   },
   "outputs": [],
   "source": [
    "import re"
   ]
  },
  {
   "cell_type": "code",
   "execution_count": 32,
   "metadata": {
    "execution": {
     "iopub.execute_input": "2020-09-25T11:52:01.221782Z",
     "iopub.status.busy": "2020-09-25T11:52:01.220782Z",
     "iopub.status.idle": "2020-09-25T11:52:01.227531Z",
     "shell.execute_reply": "2020-09-25T11:52:01.226787Z",
     "shell.execute_reply.started": "2020-09-25T11:52:01.221782Z"
    }
   },
   "outputs": [],
   "source": [
    "regex = r\"(\\[\\[.*?\\]\\])\""
   ]
  },
  {
   "cell_type": "code",
   "execution_count": 33,
   "metadata": {
    "execution": {
     "iopub.execute_input": "2020-09-25T11:52:01.474455Z",
     "iopub.status.busy": "2020-09-25T11:52:01.474455Z",
     "iopub.status.idle": "2020-09-25T11:52:01.485425Z",
     "shell.execute_reply": "2020-09-25T11:52:01.483432Z",
     "shell.execute_reply.started": "2020-09-25T11:52:01.474455Z"
    }
   },
   "outputs": [],
   "source": [
    "match = re.search(regex, \"[[Anaconda]]\") "
   ]
  },
  {
   "cell_type": "code",
   "execution_count": 41,
   "metadata": {
    "execution": {
     "iopub.execute_input": "2020-09-25T11:54:44.961007Z",
     "iopub.status.busy": "2020-09-25T11:54:44.961007Z",
     "iopub.status.idle": "2020-09-25T11:54:44.976987Z",
     "shell.execute_reply": "2020-09-25T11:54:44.975757Z",
     "shell.execute_reply.started": "2020-09-25T11:54:44.961007Z"
    }
   },
   "outputs": [],
   "source": [
    "match = re.match(regex, \"[[Anaconda]]\") "
   ]
  },
  {
   "cell_type": "code",
   "execution_count": 42,
   "metadata": {
    "execution": {
     "iopub.execute_input": "2020-09-25T11:54:47.631892Z",
     "iopub.status.busy": "2020-09-25T11:54:47.630891Z",
     "iopub.status.idle": "2020-09-25T11:54:47.636890Z",
     "shell.execute_reply": "2020-09-25T11:54:47.635891Z",
     "shell.execute_reply.started": "2020-09-25T11:54:47.631892Z"
    }
   },
   "outputs": [
    {
     "name": "stdout",
     "output_type": "stream",
     "text": [
      "<re.Match object; span=(0, 12), match='[[Anaconda]]'>\n"
     ]
    }
   ],
   "source": [
    "print(match)"
   ]
  },
  {
   "cell_type": "code",
   "execution_count": 43,
   "metadata": {
    "execution": {
     "iopub.execute_input": "2020-09-25T11:54:48.257004Z",
     "iopub.status.busy": "2020-09-25T11:54:48.257004Z",
     "iopub.status.idle": "2020-09-25T11:54:48.273663Z",
     "shell.execute_reply": "2020-09-25T11:54:48.272696Z",
     "shell.execute_reply.started": "2020-09-25T11:54:48.257004Z"
    }
   },
   "outputs": [
    {
     "data": {
      "text/plain": [
       "'[[Anaconda]]'"
      ]
     },
     "execution_count": 43,
     "metadata": {},
     "output_type": "execute_result"
    }
   ],
   "source": [
    "match.group()"
   ]
  },
  {
   "cell_type": "code",
   "execution_count": 46,
   "metadata": {
    "execution": {
     "iopub.execute_input": "2020-09-25T11:58:57.756820Z",
     "iopub.status.busy": "2020-09-25T11:58:57.756820Z",
     "iopub.status.idle": "2020-09-25T11:58:57.775414Z",
     "shell.execute_reply": "2020-09-25T11:58:57.774443Z",
     "shell.execute_reply.started": "2020-09-25T11:58:57.756820Z"
    }
   },
   "outputs": [
    {
     "data": {
      "text/plain": [
       "'Anaconda'"
      ]
     },
     "execution_count": 46,
     "metadata": {},
     "output_type": "execute_result"
    }
   ],
   "source": [
    "match.group().replace(\"[[\", \"\").replace(\"]]\", \"\")"
   ]
  },
  {
   "cell_type": "markdown",
   "metadata": {},
   "source": [
    "should not use sub, just replace `[[`"
   ]
  },
  {
   "cell_type": "code",
   "execution_count": 44,
   "metadata": {
    "execution": {
     "iopub.execute_input": "2020-09-25T11:56:58.668421Z",
     "iopub.status.busy": "2020-09-25T11:56:58.667510Z",
     "iopub.status.idle": "2020-09-25T11:56:58.678424Z",
     "shell.execute_reply": "2020-09-25T11:56:58.677422Z",
     "shell.execute_reply.started": "2020-09-25T11:56:58.668421Z"
    }
   },
   "outputs": [],
   "source": [
    "node = re.sub(r\"(\\[\\[.*?\\]\\])\", \"\", \"[[Anaconda]]\")"
   ]
  },
  {
   "cell_type": "code",
   "execution_count": 45,
   "metadata": {
    "execution": {
     "iopub.execute_input": "2020-09-25T11:57:00.671848Z",
     "iopub.status.busy": "2020-09-25T11:57:00.671848Z",
     "iopub.status.idle": "2020-09-25T11:57:00.677847Z",
     "shell.execute_reply": "2020-09-25T11:57:00.676846Z",
     "shell.execute_reply.started": "2020-09-25T11:57:00.671848Z"
    }
   },
   "outputs": [
    {
     "data": {
      "text/plain": [
       "''"
      ]
     },
     "execution_count": 45,
     "metadata": {},
     "output_type": "execute_result"
    }
   ],
   "source": [
    "node"
   ]
  },
  {
   "cell_type": "code",
   "execution_count": null,
   "metadata": {},
   "outputs": [],
   "source": []
  },
  {
   "cell_type": "code",
   "execution_count": 53,
   "metadata": {
    "execution": {
     "iopub.execute_input": "2020-09-25T12:16:36.260279Z",
     "iopub.status.busy": "2020-09-25T12:16:36.260279Z",
     "iopub.status.idle": "2020-09-25T12:16:36.273279Z",
     "shell.execute_reply": "2020-09-25T12:16:36.272277Z",
     "shell.execute_reply.started": "2020-09-25T12:16:36.260279Z"
    }
   },
   "outputs": [],
   "source": [
    "import pandas as pd"
   ]
  },
  {
   "cell_type": "code",
   "execution_count": null,
   "metadata": {},
   "outputs": [],
   "source": [
    "Links = pd.DataFrame()"
   ]
  },
  {
   "cell_type": "code",
   "execution_count": null,
   "metadata": {},
   "outputs": [],
   "source": [
    "Links = Links.append({\"Source\":str(file), \"Target\":str(node), \"Value\":\"1\", ignore_index=True)"
   ]
  },
  {
   "cell_type": "code",
   "execution_count": 57,
   "metadata": {
    "execution": {
     "iopub.execute_input": "2020-09-25T12:18:05.676355Z",
     "iopub.status.busy": "2020-09-25T12:18:05.676355Z",
     "iopub.status.idle": "2020-09-25T12:18:05.695355Z",
     "shell.execute_reply": "2020-09-25T12:18:05.694353Z",
     "shell.execute_reply.started": "2020-09-25T12:18:05.676355Z"
    }
   },
   "outputs": [
    {
     "name": "stdout",
     "output_type": "stream",
     "text": [
      "[[Anaconda]]\n",
      "Anaconda\n",
      "[[Miniconda]]\n",
      "Miniconda\n"
     ]
    }
   ],
   "source": [
    "# Opening file \n",
    "file = open('C:\\\\Users\\\\Junyu\\\\OneDrive\\\\200-Areas\\\\BioSoft\\\\Conda.md', 'r') \n",
    "# Using for loop\n",
    "Links = pd.DataFrame()\n",
    "regex = r\"(\\[\\[.*?\\]\\])\"\n",
    "for line in file:\n",
    "    #node = \"\"\n",
    "    print(line.strip())\n",
    "    match = re.search(regex, line.strip()) \n",
    "    node = match.group().replace(\"[[\", \"\").replace(\"]]\", \"\")\n",
    "    Links = Links.append({\"Source\":str(file), \"Target\":str(node), \"Value\":\"1\"}, ignore_index=True)\n",
    "    print(node)\n",
    "# Closing files \n",
    "file.close() "
   ]
  },
  {
   "cell_type": "markdown",
   "metadata": {},
   "source": [
    "`Links` & `Points`"
   ]
  },
  {
   "cell_type": "code",
   "execution_count": 58,
   "metadata": {
    "execution": {
     "iopub.execute_input": "2020-09-25T12:18:06.858648Z",
     "iopub.status.busy": "2020-09-25T12:18:06.858648Z",
     "iopub.status.idle": "2020-09-25T12:18:06.881650Z",
     "shell.execute_reply": "2020-09-25T12:18:06.880646Z",
     "shell.execute_reply.started": "2020-09-25T12:18:06.858648Z"
    }
   },
   "outputs": [
    {
     "data": {
      "text/html": [
       "<div>\n",
       "<style scoped>\n",
       "    .dataframe tbody tr th:only-of-type {\n",
       "        vertical-align: middle;\n",
       "    }\n",
       "\n",
       "    .dataframe tbody tr th {\n",
       "        vertical-align: top;\n",
       "    }\n",
       "\n",
       "    .dataframe thead th {\n",
       "        text-align: right;\n",
       "    }\n",
       "</style>\n",
       "<table border=\"1\" class=\"dataframe\">\n",
       "  <thead>\n",
       "    <tr style=\"text-align: right;\">\n",
       "      <th></th>\n",
       "      <th>Source</th>\n",
       "      <th>Target</th>\n",
       "      <th>Value</th>\n",
       "    </tr>\n",
       "  </thead>\n",
       "  <tbody>\n",
       "    <tr>\n",
       "      <th>0</th>\n",
       "      <td>&lt;_io.TextIOWrapper name='C:\\\\Users\\\\Junyu\\\\One...</td>\n",
       "      <td>Anaconda</td>\n",
       "      <td>1</td>\n",
       "    </tr>\n",
       "    <tr>\n",
       "      <th>1</th>\n",
       "      <td>&lt;_io.TextIOWrapper name='C:\\\\Users\\\\Junyu\\\\One...</td>\n",
       "      <td>Miniconda</td>\n",
       "      <td>1</td>\n",
       "    </tr>\n",
       "  </tbody>\n",
       "</table>\n",
       "</div>"
      ],
      "text/plain": [
       "                                              Source     Target Value\n",
       "0  <_io.TextIOWrapper name='C:\\\\Users\\\\Junyu\\\\One...   Anaconda     1\n",
       "1  <_io.TextIOWrapper name='C:\\\\Users\\\\Junyu\\\\One...  Miniconda     1"
      ]
     },
     "execution_count": 58,
     "metadata": {},
     "output_type": "execute_result"
    }
   ],
   "source": [
    "Links"
   ]
  },
  {
   "cell_type": "code",
   "execution_count": null,
   "metadata": {},
   "outputs": [],
   "source": []
  },
  {
   "cell_type": "code",
   "execution_count": null,
   "metadata": {},
   "outputs": [],
   "source": []
  },
  {
   "cell_type": "code",
   "execution_count": 63,
   "metadata": {
    "collapsed": true,
    "execution": {
     "iopub.execute_input": "2020-09-25T12:22:29.478472Z",
     "iopub.status.busy": "2020-09-25T12:22:29.478472Z",
     "iopub.status.idle": "2020-09-25T12:22:29.624466Z",
     "shell.execute_reply": "2020-09-25T12:22:29.623496Z",
     "shell.execute_reply.started": "2020-09-25T12:22:29.478472Z"
    },
    "jupyter": {
     "outputs_hidden": true
    }
   },
   "outputs": [
    {
     "name": "stdout",
     "output_type": "stream",
     "text": [
      "Anaconda\n",
      "Miniconda\n",
      "Unix\n",
      "Conda\n",
      "Docker\n",
      "Snakmake\n",
      "Virtual machine\n",
      "PEAR\n",
      "KneadData\n",
      "MetaPhlAn\n",
      "Bowtie\n",
      "Diamond\n",
      "VS Code\n",
      "IDLE\n",
      "PyCharm\n",
      "Jupyter notebook\n",
      "Jupyter Lab\n",
      "Spyder\n",
      "RStudio\n",
      "Vimsssd\n",
      "Ubuntu\n",
      "Manjaro\n",
      "Arc Linux\n",
      "CentOS\n",
      "DeepIn\n",
      "Kali Linux\n",
      "Rusbian\n",
      "Red Hat\n",
      "WSL1&2\n",
      "QIIME2\n",
      "HUMAnN2\n",
      "Sunbeam\n",
      "RNA-Seq\n",
      "Metagenomics\n",
      "MetaBGC\n",
      "RStudio\n",
      "Bioconductor\n",
      "ggplot\n",
      "Linux\n",
      "HPC\n"
     ]
    }
   ],
   "source": [
    "regex = r\"(\\[\\[.*?\\]\\])\"\n",
    "Links = pd.DataFrame()\n",
    "\n",
    "for subdirs, dirs, files in os.walk(Dir):\n",
    "    for file in files:\n",
    "        if file.endswith(\".md\"):\n",
    "            #print(os.path.join(subdirs, file))\n",
    "            filePath = os.path.join(subdirs, file)\n",
    "            infile = open(filePath, 'r') \n",
    "            for line in infile:\n",
    "                #print(line.strip())\n",
    "                match = re.search(regex, line.strip())\n",
    "                if match != None: \n",
    "                    node = match.group().replace(\"[[\", \"\").replace(\"]]\", \"\")\n",
    "                    Links = Links.append({\"Source\":str(file.replace(\".md\", \"\")), \"Target\":str(node), \"Value\":\"1\"}, ignore_index=True)\n",
    "                    print(node)\n",
    "            # Closing files \n",
    "            infile.close() \n",
    "            "
   ]
  },
  {
   "cell_type": "code",
   "execution_count": 64,
   "metadata": {
    "collapsed": true,
    "execution": {
     "iopub.execute_input": "2020-09-25T12:22:30.193253Z",
     "iopub.status.busy": "2020-09-25T12:22:30.193253Z",
     "iopub.status.idle": "2020-09-25T12:22:30.225247Z",
     "shell.execute_reply": "2020-09-25T12:22:30.224249Z",
     "shell.execute_reply.started": "2020-09-25T12:22:30.193253Z"
    },
    "jupyter": {
     "outputs_hidden": true
    }
   },
   "outputs": [
    {
     "data": {
      "text/html": [
       "<div>\n",
       "<style scoped>\n",
       "    .dataframe tbody tr th:only-of-type {\n",
       "        vertical-align: middle;\n",
       "    }\n",
       "\n",
       "    .dataframe tbody tr th {\n",
       "        vertical-align: top;\n",
       "    }\n",
       "\n",
       "    .dataframe thead th {\n",
       "        text-align: right;\n",
       "    }\n",
       "</style>\n",
       "<table border=\"1\" class=\"dataframe\">\n",
       "  <thead>\n",
       "    <tr style=\"text-align: right;\">\n",
       "      <th></th>\n",
       "      <th>Source</th>\n",
       "      <th>Target</th>\n",
       "      <th>Value</th>\n",
       "    </tr>\n",
       "  </thead>\n",
       "  <tbody>\n",
       "    <tr>\n",
       "      <th>0</th>\n",
       "      <td>Conda</td>\n",
       "      <td>Anaconda</td>\n",
       "      <td>1</td>\n",
       "    </tr>\n",
       "    <tr>\n",
       "      <th>1</th>\n",
       "      <td>Conda</td>\n",
       "      <td>Miniconda</td>\n",
       "      <td>1</td>\n",
       "    </tr>\n",
       "    <tr>\n",
       "      <th>2</th>\n",
       "      <td>Env</td>\n",
       "      <td>Unix</td>\n",
       "      <td>1</td>\n",
       "    </tr>\n",
       "    <tr>\n",
       "      <th>3</th>\n",
       "      <td>Env</td>\n",
       "      <td>Conda</td>\n",
       "      <td>1</td>\n",
       "    </tr>\n",
       "    <tr>\n",
       "      <th>4</th>\n",
       "      <td>Env</td>\n",
       "      <td>Docker</td>\n",
       "      <td>1</td>\n",
       "    </tr>\n",
       "    <tr>\n",
       "      <th>5</th>\n",
       "      <td>Env</td>\n",
       "      <td>Snakmake</td>\n",
       "      <td>1</td>\n",
       "    </tr>\n",
       "    <tr>\n",
       "      <th>6</th>\n",
       "      <td>Env</td>\n",
       "      <td>Virtual machine</td>\n",
       "      <td>1</td>\n",
       "    </tr>\n",
       "    <tr>\n",
       "      <th>7</th>\n",
       "      <td>HUMAnN2</td>\n",
       "      <td>PEAR</td>\n",
       "      <td>1</td>\n",
       "    </tr>\n",
       "    <tr>\n",
       "      <th>8</th>\n",
       "      <td>HUMAnN2</td>\n",
       "      <td>KneadData</td>\n",
       "      <td>1</td>\n",
       "    </tr>\n",
       "    <tr>\n",
       "      <th>9</th>\n",
       "      <td>HUMAnN2</td>\n",
       "      <td>MetaPhlAn</td>\n",
       "      <td>1</td>\n",
       "    </tr>\n",
       "    <tr>\n",
       "      <th>10</th>\n",
       "      <td>HUMAnN2</td>\n",
       "      <td>Bowtie</td>\n",
       "      <td>1</td>\n",
       "    </tr>\n",
       "    <tr>\n",
       "      <th>11</th>\n",
       "      <td>HUMAnN2</td>\n",
       "      <td>Diamond</td>\n",
       "      <td>1</td>\n",
       "    </tr>\n",
       "    <tr>\n",
       "      <th>12</th>\n",
       "      <td>IDE</td>\n",
       "      <td>VS Code</td>\n",
       "      <td>1</td>\n",
       "    </tr>\n",
       "    <tr>\n",
       "      <th>13</th>\n",
       "      <td>IDE</td>\n",
       "      <td>IDLE</td>\n",
       "      <td>1</td>\n",
       "    </tr>\n",
       "    <tr>\n",
       "      <th>14</th>\n",
       "      <td>IDE</td>\n",
       "      <td>PyCharm</td>\n",
       "      <td>1</td>\n",
       "    </tr>\n",
       "    <tr>\n",
       "      <th>15</th>\n",
       "      <td>IDE</td>\n",
       "      <td>Jupyter notebook</td>\n",
       "      <td>1</td>\n",
       "    </tr>\n",
       "    <tr>\n",
       "      <th>16</th>\n",
       "      <td>IDE</td>\n",
       "      <td>Jupyter Lab</td>\n",
       "      <td>1</td>\n",
       "    </tr>\n",
       "    <tr>\n",
       "      <th>17</th>\n",
       "      <td>IDE</td>\n",
       "      <td>Spyder</td>\n",
       "      <td>1</td>\n",
       "    </tr>\n",
       "    <tr>\n",
       "      <th>18</th>\n",
       "      <td>IDE</td>\n",
       "      <td>RStudio</td>\n",
       "      <td>1</td>\n",
       "    </tr>\n",
       "    <tr>\n",
       "      <th>19</th>\n",
       "      <td>IDE</td>\n",
       "      <td>Vimsssd</td>\n",
       "      <td>1</td>\n",
       "    </tr>\n",
       "    <tr>\n",
       "      <th>20</th>\n",
       "      <td>Linux</td>\n",
       "      <td>Ubuntu</td>\n",
       "      <td>1</td>\n",
       "    </tr>\n",
       "    <tr>\n",
       "      <th>21</th>\n",
       "      <td>Linux</td>\n",
       "      <td>Manjaro</td>\n",
       "      <td>1</td>\n",
       "    </tr>\n",
       "    <tr>\n",
       "      <th>22</th>\n",
       "      <td>Linux</td>\n",
       "      <td>Arc Linux</td>\n",
       "      <td>1</td>\n",
       "    </tr>\n",
       "    <tr>\n",
       "      <th>23</th>\n",
       "      <td>Linux</td>\n",
       "      <td>CentOS</td>\n",
       "      <td>1</td>\n",
       "    </tr>\n",
       "    <tr>\n",
       "      <th>24</th>\n",
       "      <td>Linux</td>\n",
       "      <td>DeepIn</td>\n",
       "      <td>1</td>\n",
       "    </tr>\n",
       "    <tr>\n",
       "      <th>25</th>\n",
       "      <td>Linux</td>\n",
       "      <td>Kali Linux</td>\n",
       "      <td>1</td>\n",
       "    </tr>\n",
       "    <tr>\n",
       "      <th>26</th>\n",
       "      <td>Linux</td>\n",
       "      <td>Rusbian</td>\n",
       "      <td>1</td>\n",
       "    </tr>\n",
       "    <tr>\n",
       "      <th>27</th>\n",
       "      <td>Linux</td>\n",
       "      <td>Red Hat</td>\n",
       "      <td>1</td>\n",
       "    </tr>\n",
       "    <tr>\n",
       "      <th>28</th>\n",
       "      <td>Linux</td>\n",
       "      <td>WSL1&amp;2</td>\n",
       "      <td>1</td>\n",
       "    </tr>\n",
       "    <tr>\n",
       "      <th>29</th>\n",
       "      <td>Metagenomics</td>\n",
       "      <td>QIIME2</td>\n",
       "      <td>1</td>\n",
       "    </tr>\n",
       "    <tr>\n",
       "      <th>30</th>\n",
       "      <td>Metagenomics</td>\n",
       "      <td>HUMAnN2</td>\n",
       "      <td>1</td>\n",
       "    </tr>\n",
       "    <tr>\n",
       "      <th>31</th>\n",
       "      <td>Metagenomics</td>\n",
       "      <td>Sunbeam</td>\n",
       "      <td>1</td>\n",
       "    </tr>\n",
       "    <tr>\n",
       "      <th>32</th>\n",
       "      <td>Pipeline</td>\n",
       "      <td>RNA-Seq</td>\n",
       "      <td>1</td>\n",
       "    </tr>\n",
       "    <tr>\n",
       "      <th>33</th>\n",
       "      <td>Pipeline</td>\n",
       "      <td>Metagenomics</td>\n",
       "      <td>1</td>\n",
       "    </tr>\n",
       "    <tr>\n",
       "      <th>34</th>\n",
       "      <td>Pipeline</td>\n",
       "      <td>MetaBGC</td>\n",
       "      <td>1</td>\n",
       "    </tr>\n",
       "    <tr>\n",
       "      <th>35</th>\n",
       "      <td>R</td>\n",
       "      <td>RStudio</td>\n",
       "      <td>1</td>\n",
       "    </tr>\n",
       "    <tr>\n",
       "      <th>36</th>\n",
       "      <td>R</td>\n",
       "      <td>Bioconductor</td>\n",
       "      <td>1</td>\n",
       "    </tr>\n",
       "    <tr>\n",
       "      <th>37</th>\n",
       "      <td>R</td>\n",
       "      <td>ggplot</td>\n",
       "      <td>1</td>\n",
       "    </tr>\n",
       "    <tr>\n",
       "      <th>38</th>\n",
       "      <td>Unix</td>\n",
       "      <td>Linux</td>\n",
       "      <td>1</td>\n",
       "    </tr>\n",
       "    <tr>\n",
       "      <th>39</th>\n",
       "      <td>Unix</td>\n",
       "      <td>HPC</td>\n",
       "      <td>1</td>\n",
       "    </tr>\n",
       "  </tbody>\n",
       "</table>\n",
       "</div>"
      ],
      "text/plain": [
       "          Source            Target Value\n",
       "0          Conda          Anaconda     1\n",
       "1          Conda         Miniconda     1\n",
       "2            Env              Unix     1\n",
       "3            Env             Conda     1\n",
       "4            Env            Docker     1\n",
       "5            Env          Snakmake     1\n",
       "6            Env   Virtual machine     1\n",
       "7        HUMAnN2              PEAR     1\n",
       "8        HUMAnN2         KneadData     1\n",
       "9        HUMAnN2         MetaPhlAn     1\n",
       "10       HUMAnN2            Bowtie     1\n",
       "11       HUMAnN2           Diamond     1\n",
       "12           IDE           VS Code     1\n",
       "13           IDE              IDLE     1\n",
       "14           IDE           PyCharm     1\n",
       "15           IDE  Jupyter notebook     1\n",
       "16           IDE       Jupyter Lab     1\n",
       "17           IDE            Spyder     1\n",
       "18           IDE           RStudio     1\n",
       "19           IDE           Vimsssd     1\n",
       "20         Linux            Ubuntu     1\n",
       "21         Linux           Manjaro     1\n",
       "22         Linux         Arc Linux     1\n",
       "23         Linux            CentOS     1\n",
       "24         Linux            DeepIn     1\n",
       "25         Linux        Kali Linux     1\n",
       "26         Linux           Rusbian     1\n",
       "27         Linux           Red Hat     1\n",
       "28         Linux            WSL1&2     1\n",
       "29  Metagenomics            QIIME2     1\n",
       "30  Metagenomics           HUMAnN2     1\n",
       "31  Metagenomics           Sunbeam     1\n",
       "32      Pipeline           RNA-Seq     1\n",
       "33      Pipeline      Metagenomics     1\n",
       "34      Pipeline           MetaBGC     1\n",
       "35             R           RStudio     1\n",
       "36             R      Bioconductor     1\n",
       "37             R            ggplot     1\n",
       "38          Unix             Linux     1\n",
       "39          Unix               HPC     1"
      ]
     },
     "execution_count": 64,
     "metadata": {},
     "output_type": "execute_result"
    }
   ],
   "source": [
    "Links"
   ]
  },
  {
   "cell_type": "code",
   "execution_count": 80,
   "metadata": {
    "execution": {
     "iopub.execute_input": "2020-09-25T12:42:46.930099Z",
     "iopub.status.busy": "2020-09-25T12:42:46.929100Z",
     "iopub.status.idle": "2020-09-25T12:42:46.950099Z",
     "shell.execute_reply": "2020-09-25T12:42:46.949096Z",
     "shell.execute_reply.started": "2020-09-25T12:42:46.930099Z"
    }
   },
   "outputs": [],
   "source": [
    "Links.to_csv(\"Links.csv\", index=False)"
   ]
  },
  {
   "cell_type": "code",
   "execution_count": 65,
   "metadata": {
    "collapsed": true,
    "execution": {
     "iopub.execute_input": "2020-09-25T12:25:19.191123Z",
     "iopub.status.busy": "2020-09-25T12:25:19.191123Z",
     "iopub.status.idle": "2020-09-25T12:25:19.203128Z",
     "shell.execute_reply": "2020-09-25T12:25:19.202123Z",
     "shell.execute_reply.started": "2020-09-25T12:25:19.191123Z"
    },
    "jupyter": {
     "outputs_hidden": true
    }
   },
   "outputs": [
    {
     "data": {
      "text/plain": [
       "0            Conda\n",
       "1            Conda\n",
       "2              Env\n",
       "3              Env\n",
       "4              Env\n",
       "5              Env\n",
       "6              Env\n",
       "7          HUMAnN2\n",
       "8          HUMAnN2\n",
       "9          HUMAnN2\n",
       "10         HUMAnN2\n",
       "11         HUMAnN2\n",
       "12             IDE\n",
       "13             IDE\n",
       "14             IDE\n",
       "15             IDE\n",
       "16             IDE\n",
       "17             IDE\n",
       "18             IDE\n",
       "19             IDE\n",
       "20           Linux\n",
       "21           Linux\n",
       "22           Linux\n",
       "23           Linux\n",
       "24           Linux\n",
       "25           Linux\n",
       "26           Linux\n",
       "27           Linux\n",
       "28           Linux\n",
       "29    Metagenomics\n",
       "30    Metagenomics\n",
       "31    Metagenomics\n",
       "32        Pipeline\n",
       "33        Pipeline\n",
       "34        Pipeline\n",
       "35               R\n",
       "36               R\n",
       "37               R\n",
       "38            Unix\n",
       "39            Unix\n",
       "Name: Source, dtype: object"
      ]
     },
     "execution_count": 65,
     "metadata": {},
     "output_type": "execute_result"
    }
   ],
   "source": [
    "Links[\"Source\"]"
   ]
  },
  {
   "cell_type": "code",
   "execution_count": 70,
   "metadata": {
    "execution": {
     "iopub.execute_input": "2020-09-25T12:40:23.409203Z",
     "iopub.status.busy": "2020-09-25T12:40:23.408202Z",
     "iopub.status.idle": "2020-09-25T12:40:23.418201Z",
     "shell.execute_reply": "2020-09-25T12:40:23.417203Z",
     "shell.execute_reply.started": "2020-09-25T12:40:23.409203Z"
    }
   },
   "outputs": [],
   "source": [
    "Sum = pd.concat([Links[\"Source\"], Links[\"Target\"]], ignore_index=True, sort=False)"
   ]
  },
  {
   "cell_type": "code",
   "execution_count": 71,
   "metadata": {
    "execution": {
     "iopub.execute_input": "2020-09-25T12:40:24.183099Z",
     "iopub.status.busy": "2020-09-25T12:40:24.182102Z",
     "iopub.status.idle": "2020-09-25T12:40:24.193482Z",
     "shell.execute_reply": "2020-09-25T12:40:24.191486Z",
     "shell.execute_reply.started": "2020-09-25T12:40:24.183099Z"
    }
   },
   "outputs": [
    {
     "data": {
      "text/plain": [
       "0            Conda\n",
       "1            Conda\n",
       "2              Env\n",
       "3              Env\n",
       "4              Env\n",
       "          ...     \n",
       "75         RStudio\n",
       "76    Bioconductor\n",
       "77          ggplot\n",
       "78           Linux\n",
       "79             HPC\n",
       "Length: 80, dtype: object"
      ]
     },
     "execution_count": 71,
     "metadata": {},
     "output_type": "execute_result"
    }
   ],
   "source": [
    "Sum"
   ]
  },
  {
   "cell_type": "code",
   "execution_count": 81,
   "metadata": {
    "execution": {
     "iopub.execute_input": "2020-09-25T12:47:49.166853Z",
     "iopub.status.busy": "2020-09-25T12:47:49.166853Z",
     "iopub.status.idle": "2020-09-25T12:47:49.174853Z",
     "shell.execute_reply": "2020-09-25T12:47:49.173854Z",
     "shell.execute_reply.started": "2020-09-25T12:47:49.166853Z"
    }
   },
   "outputs": [],
   "source": [
    "Points = Sum.value_counts()"
   ]
  },
  {
   "cell_type": "code",
   "execution_count": 84,
   "metadata": {
    "execution": {
     "iopub.execute_input": "2020-09-25T12:49:15.445851Z",
     "iopub.status.busy": "2020-09-25T12:49:15.445851Z",
     "iopub.status.idle": "2020-09-25T12:49:15.455849Z",
     "shell.execute_reply": "2020-09-25T12:49:15.454850Z",
     "shell.execute_reply.started": "2020-09-25T12:49:15.445851Z"
    }
   },
   "outputs": [
    {
     "data": {
      "text/plain": [
       "Linux               10\n",
       "IDE                  8\n",
       "HUMAnN2              6\n",
       "Env                  5\n",
       "Metagenomics         4\n",
       "Conda                3\n",
       "Pipeline             3\n",
       "Unix                 3\n",
       "R                    3\n",
       "RStudio              2\n",
       "DeepIn               1\n",
       "Sunbeam              1\n",
       "IDLE                 1\n",
       "Red Hat              1\n",
       "ggplot               1\n",
       "HPC                  1\n",
       "Miniconda            1\n",
       "MetaPhlAn            1\n",
       "KneadData            1\n",
       "Diamond              1\n",
       "CentOS               1\n",
       "Anaconda             1\n",
       "VS Code              1\n",
       "Ubuntu               1\n",
       "WSL1&2               1\n",
       "QIIME2               1\n",
       "Docker               1\n",
       "Rusbian              1\n",
       "Vimsssd              1\n",
       "PEAR                 1\n",
       "Jupyter Lab          1\n",
       "MetaBGC              1\n",
       "Snakmake             1\n",
       "Kali Linux           1\n",
       "PyCharm              1\n",
       "Manjaro              1\n",
       "Jupyter notebook     1\n",
       "Bowtie               1\n",
       "RNA-Seq              1\n",
       "Virtual machine      1\n",
       "Arc Linux            1\n",
       "Spyder               1\n",
       "Bioconductor         1\n",
       "dtype: int64"
      ]
     },
     "execution_count": 84,
     "metadata": {},
     "output_type": "execute_result"
    }
   ],
   "source": [
    "Points"
   ]
  },
  {
   "cell_type": "code",
   "execution_count": 85,
   "metadata": {
    "execution": {
     "iopub.execute_input": "2020-09-25T12:49:24.694585Z",
     "iopub.status.busy": "2020-09-25T12:49:24.694585Z",
     "iopub.status.idle": "2020-09-25T12:49:24.699589Z",
     "shell.execute_reply": "2020-09-25T12:49:24.698590Z",
     "shell.execute_reply.started": "2020-09-25T12:49:24.694585Z"
    }
   },
   "outputs": [],
   "source": [
    "Points.columns = [\"ID\", \"Size\"]"
   ]
  },
  {
   "cell_type": "code",
   "execution_count": 86,
   "metadata": {
    "execution": {
     "iopub.execute_input": "2020-09-25T12:49:25.838719Z",
     "iopub.status.busy": "2020-09-25T12:49:25.838719Z",
     "iopub.status.idle": "2020-09-25T12:49:25.856719Z",
     "shell.execute_reply": "2020-09-25T12:49:25.855720Z",
     "shell.execute_reply.started": "2020-09-25T12:49:25.838719Z"
    }
   },
   "outputs": [
    {
     "data": {
      "text/plain": [
       "Linux               10\n",
       "IDE                  8\n",
       "HUMAnN2              6\n",
       "Env                  5\n",
       "Metagenomics         4\n",
       "Conda                3\n",
       "Pipeline             3\n",
       "Unix                 3\n",
       "R                    3\n",
       "RStudio              2\n",
       "DeepIn               1\n",
       "Sunbeam              1\n",
       "IDLE                 1\n",
       "Red Hat              1\n",
       "ggplot               1\n",
       "HPC                  1\n",
       "Miniconda            1\n",
       "MetaPhlAn            1\n",
       "KneadData            1\n",
       "Diamond              1\n",
       "CentOS               1\n",
       "Anaconda             1\n",
       "VS Code              1\n",
       "Ubuntu               1\n",
       "WSL1&2               1\n",
       "QIIME2               1\n",
       "Docker               1\n",
       "Rusbian              1\n",
       "Vimsssd              1\n",
       "PEAR                 1\n",
       "Jupyter Lab          1\n",
       "MetaBGC              1\n",
       "Snakmake             1\n",
       "Kali Linux           1\n",
       "PyCharm              1\n",
       "Manjaro              1\n",
       "Jupyter notebook     1\n",
       "Bowtie               1\n",
       "RNA-Seq              1\n",
       "Virtual machine      1\n",
       "Arc Linux            1\n",
       "Spyder               1\n",
       "Bioconductor         1\n",
       "dtype: int64"
      ]
     },
     "execution_count": 86,
     "metadata": {},
     "output_type": "execute_result"
    }
   ],
   "source": [
    "Points"
   ]
  },
  {
   "cell_type": "code",
   "execution_count": 75,
   "metadata": {
    "execution": {
     "iopub.execute_input": "2020-09-25T12:41:05.995027Z",
     "iopub.status.busy": "2020-09-25T12:41:05.993876Z",
     "iopub.status.idle": "2020-09-25T12:41:06.010877Z",
     "shell.execute_reply": "2020-09-25T12:41:06.009874Z",
     "shell.execute_reply.started": "2020-09-25T12:41:05.995027Z"
    }
   },
   "outputs": [
    {
     "data": {
      "text/plain": [
       "pandas.core.series.Series"
      ]
     },
     "execution_count": 75,
     "metadata": {},
     "output_type": "execute_result"
    }
   ],
   "source": [
    "type(Points)"
   ]
  },
  {
   "cell_type": "code",
   "execution_count": 87,
   "metadata": {
    "execution": {
     "iopub.execute_input": "2020-09-25T12:49:31.138278Z",
     "iopub.status.busy": "2020-09-25T12:49:31.138278Z",
     "iopub.status.idle": "2020-09-25T12:49:31.155275Z",
     "shell.execute_reply": "2020-09-25T12:49:31.154277Z",
     "shell.execute_reply.started": "2020-09-25T12:49:31.138278Z"
    }
   },
   "outputs": [],
   "source": [
    "Points.to_csv(\"Points.csv\")"
   ]
  },
  {
   "cell_type": "code",
   "execution_count": 68,
   "metadata": {
    "collapsed": true,
    "execution": {
     "iopub.execute_input": "2020-09-25T12:37:09.792439Z",
     "iopub.status.busy": "2020-09-25T12:37:09.791434Z",
     "iopub.status.idle": "2020-09-25T12:37:09.804428Z",
     "shell.execute_reply": "2020-09-25T12:37:09.803432Z",
     "shell.execute_reply.started": "2020-09-25T12:37:09.792439Z"
    },
    "jupyter": {
     "outputs_hidden": true
    }
   },
   "outputs": [
    {
     "data": {
      "text/plain": [
       "0                Conda\n",
       "2                  Env\n",
       "7              HUMAnN2\n",
       "12                 IDE\n",
       "20               Linux\n",
       "29        Metagenomics\n",
       "32            Pipeline\n",
       "35                   R\n",
       "38                Unix\n",
       "40            Anaconda\n",
       "41           Miniconda\n",
       "44              Docker\n",
       "45            Snakmake\n",
       "46     Virtual machine\n",
       "47                PEAR\n",
       "48           KneadData\n",
       "49           MetaPhlAn\n",
       "50              Bowtie\n",
       "51             Diamond\n",
       "52             VS Code\n",
       "53                IDLE\n",
       "54             PyCharm\n",
       "55    Jupyter notebook\n",
       "56         Jupyter Lab\n",
       "57              Spyder\n",
       "58             RStudio\n",
       "59             Vimsssd\n",
       "60              Ubuntu\n",
       "61             Manjaro\n",
       "62           Arc Linux\n",
       "63              CentOS\n",
       "64              DeepIn\n",
       "65          Kali Linux\n",
       "66             Rusbian\n",
       "67             Red Hat\n",
       "68              WSL1&2\n",
       "69              QIIME2\n",
       "71             Sunbeam\n",
       "72             RNA-Seq\n",
       "74             MetaBGC\n",
       "76        Bioconductor\n",
       "77              ggplot\n",
       "79                 HPC\n",
       "dtype: object"
      ]
     },
     "execution_count": 68,
     "metadata": {},
     "output_type": "execute_result"
    }
   ],
   "source": [
    "result.drop_duplicates()"
   ]
  },
  {
   "cell_type": "code",
   "execution_count": null,
   "metadata": {},
   "outputs": [],
   "source": []
  }
 ],
 "metadata": {
  "kernelspec": {
   "display_name": "Python 3",
   "language": "python",
   "name": "python3"
  },
  "language_info": {
   "codemirror_mode": {
    "name": "ipython",
    "version": 3
   },
   "file_extension": ".py",
   "mimetype": "text/x-python",
   "name": "python",
   "nbconvert_exporter": "python",
   "pygments_lexer": "ipython3",
   "version": "3.8.5"
  }
 },
 "nbformat": 4,
 "nbformat_minor": 4
}
